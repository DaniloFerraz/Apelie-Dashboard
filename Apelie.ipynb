{
 "cells": [
  {
   "cell_type": "code",
   "execution_count": null,
   "id": "f9dbedfb",
   "metadata": {},
   "outputs": [],
   "source": [
    "import json\n",
    "import time\n",
    "import datetime\n",
    "from kafka import KafkaConsumer\n",
    "import pyspark\n",
    "from pyspark import SparkConf\n",
    "from pyspark.sql import SparkSession"
   ]
  },
  {
   "cell_type": "code",
   "execution_count": null,
   "id": "926818db",
   "metadata": {},
   "outputs": [],
   "source": [
    "spark = SparkSession.builder.getOrCreate() \n",
    "SparkConf().getAll()"
   ]
  },
  {
   "cell_type": "code",
   "execution_count": null,
   "id": "76a7ac8c",
   "metadata": {},
   "outputs": [],
   "source": [
    "def epoch_converter(datetime_obj):\n",
    "    teste = datetime.datetime.strptime(datetime_obj, '%Y-%m-%d %H:%M:%S')\n",
    "    epoch = datetime.datetime.timestamp(teste)\n",
    "    return epoch"
   ]
  },
  {
   "cell_type": "code",
   "execution_count": null,
   "id": "a9c5fe9c",
   "metadata": {
    "tags": []
   },
   "outputs": [],
   "source": [
    "consumer = KafkaConsumer('apelie_data')\n",
    "home_page_messages = []\n",
    "store_messages = []\n",
    "product_messages = []\n",
    "cart_messages = []\n",
    "for msg in consumer:\n",
    "    kafka_messages = json.loads(msg.value.decode('utf-8'))    \n",
    "    if next(iter(kafka_messages)) == 'home_page':\n",
    "        epoch = epoch_converter(kafka_messages['home_page']['check_in_timestamp']) \n",
    "        kafka_messages['home_page']['check_in_timestamp'] = int(epoch)\n",
    "        epoch = epoch_converter(kafka_messages['home_page']['check_out_timestamp'])\n",
    "        kafka_messages['home_page']['check_out_timestamp'] = int(epoch)\n",
    "        home_page_messages.append(kafka_messages['home_page'])\n",
    "        df_home = spark.createDataFrame(home_page_messages)\n",
    "        df_home = df_home.withColumn('time_in_home_page', ( df_home['check_out_timestamp'] - df_home['check_in_timestamp'] ))\n",
    "        df_home.show()\n",
    "    elif next(iter(kafka_messages)) == 'store':\n",
    "        epoch = epoch_converter(kafka_messages['store']['hour_of_checkin_store'])\n",
    "        kafka_messages['store']['hour_of_checkin_store'] = int(epoch)\n",
    "        epoch = epoch_converter(kafka_messages['store']['hour_of_checkout_sotre'])\n",
    "        kafka_messages['store']['hour_of_checkout_sotre'] = int(epoch)\n",
    "        store_messages.append(kafka_messages['store'])\n",
    "        df_store = spark.createDataFrame(store_messages)\n",
    "        df_store = df_store.withColumn('time_in_store', ( df_store['hour_of_checkout_sotre'] - df_store['hour_of_checkin_store'] ))\n",
    "        df_store.show()\n",
    "    elif next(iter(kafka_messages)) == 'product':\n",
    "        epoch = epoch_converter(kafka_messages['product']['product_checkin'])\n",
    "        kafka_messages['product']['product_checkin'] = int(epoch)\n",
    "        epoch = epoch_converter(kafka_messages['product']['product_checkout'])\n",
    "        kafka_messages['product']['product_checkout'] = int(epoch)\n",
    "        product_messages.append(kafka_messages['product'])\n",
    "        df_product = spark.createDataFrame(product_messages)\n",
    "        df_product = df_product.withColumn('time_looking_product', ( df_product['product_checkout'] - df_product['product_checkin'] ))\n",
    "        df_product.show()\n",
    "    elif next(iter(kafka_messages)) == 'cart':\n",
    "        cart_messages.append(kafka_messages['cart'])\n",
    "        df_cart = spark.createDataFrame(cart_messages)\n",
    "        df_cart.show()"
   ]
  },
  {
   "cell_type": "code",
   "execution_count": null,
   "id": "28ff4078",
   "metadata": {},
   "outputs": [],
   "source": []
  }
 ],
 "metadata": {
  "kernelspec": {
   "display_name": "Python 3",
   "language": "python",
   "name": "python3"
  },
  "language_info": {
   "codemirror_mode": {
    "name": "ipython",
    "version": 3
   },
   "file_extension": ".py",
   "mimetype": "text/x-python",
   "name": "python",
   "nbconvert_exporter": "python",
   "pygments_lexer": "ipython3",
   "version": "3.8.5"
  }
 },
 "nbformat": 4,
 "nbformat_minor": 5
}
