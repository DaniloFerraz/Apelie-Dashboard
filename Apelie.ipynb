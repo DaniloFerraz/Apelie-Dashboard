{
 "cells": [
  {
   "cell_type": "code",
   "execution_count": null,
   "id": "fda2812c",
   "metadata": {},
   "outputs": [],
   "source": [
    "import json\n",
    "from kafka import KafkaConsumer\n",
    "import pyspark\n",
    "from pyspark import SparkConf\n",
    "from pyspark.sql import SparkSession"
   ]
  },
  {
   "cell_type": "code",
   "execution_count": null,
   "id": "7b7e3903",
   "metadata": {},
   "outputs": [],
   "source": [
    "spark = SparkSession.builder.getOrCreate() \n",
    "SparkConf().getAll()"
   ]
  },
  {
   "cell_type": "code",
   "execution_count": null,
   "id": "03e0dcca",
   "metadata": {
    "tags": []
   },
   "outputs": [],
   "source": [
    "consumer = KafkaConsumer('apelie_data')\n",
    "home_page_messages = []\n",
    "store_messages = []\n",
    "product_messages = []\n",
    "cart_messages = []\n",
    "for msg in consumer:\n",
    "    kafka_messages = json.loads(msg.value.decode('utf-8'))    \n",
    "    if next(iter(kafka_messages)) == 'home_page':\n",
    "        home_page_messages.append(kafka_messages['home_page'])\n",
    "        df_home = spark.createDataFrame(home_page_messages)\n",
    "        df_home.show()\n",
    "    elif next(iter(kafka_messages)) == 'store':\n",
    "        store_messages.append(kafka_messages['store'])\n",
    "        df_store = spark.createDataFrame(store_messages)\n",
    "        df_store.show()\n",
    "    elif next(iter(kafka_messages)) == 'product':\n",
    "        product_messages.append(kafka_messages['product'])\n",
    "        df_product = spark.createDataFrame(product_messages)\n",
    "        df_product.show() \n",
    "    elif next(iter(kafka_messages)) == 'cart':\n",
    "        cart_messages.append(kafka_messages['cart'])\n",
    "        df_cart = spark.createDataFrame(cart_messages)\n",
    "        df_cart.show() "
   ]
  },
  {
   "cell_type": "code",
   "execution_count": null,
   "id": "2eaccb4b",
   "metadata": {},
   "outputs": [],
   "source": []
  }
 ],
 "metadata": {
  "kernelspec": {
   "display_name": "Python 3",
   "language": "python",
   "name": "python3"
  },
  "language_info": {
   "codemirror_mode": {
    "name": "ipython",
    "version": 3
   },
   "file_extension": ".py",
   "mimetype": "text/x-python",
   "name": "python",
   "nbconvert_exporter": "python",
   "pygments_lexer": "ipython3",
   "version": "3.8.5"
  }
 },
 "nbformat": 4,
 "nbformat_minor": 5
}
