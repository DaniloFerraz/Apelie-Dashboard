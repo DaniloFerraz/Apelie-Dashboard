{
 "cells": [
  {
   "cell_type": "code",
   "execution_count": 11,
   "id": "9ab39573",
   "metadata": {},
   "outputs": [],
   "source": [
    "from kafka import KafkaProducer\n",
    "import pandas\n",
    "import random\n",
    "import json\n",
    "from faker import Faker\n",
    "import datetime\n",
    "import time"
   ]
  },
  {
   "cell_type": "code",
   "execution_count": 12,
   "id": "370278bf",
   "metadata": {},
   "outputs": [],
   "source": [
    "producer = KafkaProducer(bootstrap_servers=['localhost:9092','localhost:9093','localhost:9094'])"
   ]
  },
  {
   "cell_type": "code",
   "execution_count": 21,
   "id": "2f16bd07",
   "metadata": {},
   "outputs": [],
   "source": [
    "def create_checkin():\n",
    "    date = datetime.datetime.today()\n",
    "    date = date.replace(hour=0, minute=0, second=0, microsecond=0)\n",
    "    for days in range(1):\n",
    "        for c in range(1): \n",
    "            hours = random.randint(9, 20)\n",
    "            minutes = random.randint(0, 59)\n",
    "            seconds = random.randint(0, 60)\n",
    "            final_date = date + datetime.timedelta(days=days, hours=hours, minutes=minutes, seconds=seconds)\n",
    "            return final_date\n",
    "        \n",
    "def create_checkout(hour_init, minute_init, second_init):\n",
    "    date = datetime.datetime.today()\n",
    "    date = date.replace(hour=0, minute=0, second=0, microsecond=0)\n",
    "    for days in range(1):\n",
    "        for c in range(1): \n",
    "            hours = random.randint(hour_init, 23)\n",
    "            minutes = random.randint(minute_init, 59)\n",
    "            seconds = random.randint(second_init, 60)\n",
    "            final_date = date + datetime.timedelta(days=days, hours=hours, minutes=minutes, seconds=seconds)\n",
    "            return final_date        "
   ]
  },
  {
   "cell_type": "code",
   "execution_count": 24,
   "id": "f28000fb",
   "metadata": {},
   "outputs": [],
   "source": [
    "def send_login_logs():\n",
    "    login = {\n",
    "        \"home_page\":{\n",
    "                \"user_id\": id_user,\n",
    "                \"gender\": sex,\n",
    "                \"age\": age,\n",
    "                \"is_web\": is_computer,\n",
    "                \"check_in_timestamp\": check_in.isoformat(),\n",
    "                \"check_out_timestamp\": check_out.isoformat()\n",
    "            }\n",
    "    } \n",
    "    print(login)\n",
    "    producer.send('apelie_data', json.dumps(login).encode('utf-8'))\n",
    "    \n",
    "def send_store_logs():\n",
    "    store = {\n",
    "       \"store\": {\n",
    "                \"user_id\": id_user,\n",
    "                \"store_id\": store_id,\n",
    "                \"hour_of_checkin_store\": check_in_store.isoformat(),\n",
    "                \"store_id\": id_store,\n",
    "                \"store_location\": store_location,\n",
    "                \"hour_of_checkout_sotre\": check_out_store.isoformat()\n",
    "            }\n",
    "    } \n",
    "    print(store)\n",
    "    producer.send('apelie_data', json.dumps(store).encode('utf-8'))    \n",
    "    \n",
    "def send_product_logs():\n",
    "    product = {\n",
    "        \"product\": {\n",
    "                \"user_id\": id_user,\n",
    "                \"product_checkin\": check_in_product.isoformat(),\n",
    "                \"store_id\": id_store,\n",
    "                \"product_id\": id_product,\n",
    "                \"product_checkout\": check_out_product.isoformat(),\n",
    "                \"add_on_cart\": add_on_cart\n",
    "            }\n",
    "    } \n",
    "    print(product)\n",
    "    producer.send('apelie_data', json.dumps(product).encode('utf-8'))    \n",
    "    \n",
    "\n",
    "def send_cart_logs():\n",
    "    cart = {\n",
    "        \"cart\":{\n",
    "                \"user_id\": id_user,\n",
    "                \"add_item\": item_add,\n",
    "                \"buy_item\": buy_item,\n",
    "                \"id_of_products\": [id_product_cart],\n",
    "                \"id_of_buyed_products\": [id_product_cart_buy]\n",
    "            }\n",
    "    }\n",
    "    print(cart)\n",
    "    producer.send('apelie_data', json.dumps(cart).encode('utf-8'))"
   ]
  },
  {
   "cell_type": "code",
   "execution_count": 42,
   "id": "86b7f17a",
   "metadata": {},
   "outputs": [
    {
     "name": "stdout",
     "output_type": "stream",
     "text": [
      "{'home_page': {'user_id': 1, 'gender': 'F', 'age': 74, 'is_web': True, 'check_in_timestamp': '2021-04-26T12:56:51', 'check_out_timestamp': '2021-04-26T22:58:58'}}\n",
      "{'home_page': {'user_id': 9, 'gender': 'F', 'age': 67, 'is_web': False, 'check_in_timestamp': '2021-04-26T16:02:52', 'check_out_timestamp': '2021-04-26T22:47:00'}}\n",
      "{'store': {'user_id': 0, 'store_id': 1, 'hour_of_checkin_store': '2021-04-26T21:50:55', 'store_location': 'BH', 'hour_of_checkout_sotre': '2021-04-26T23:55:55'}}\n",
      "{'home_page': {'user_id': 5, 'gender': 'F', 'age': 51, 'is_web': True, 'check_in_timestamp': '2021-04-26T12:38:36', 'check_out_timestamp': '2021-04-26T23:54:49'}}\n",
      "{'product': {'user_id': 1, 'product_checkin': '2021-04-26T23:58:54', 'store_id': 8, 'product_id': 93525, 'product_checkout': '2021-04-26T23:58:57', 'add_on_cart': False}}\n",
      "{'home_page': {'user_id': 6, 'gender': 'F', 'age': 12, 'is_web': True, 'check_in_timestamp': '2021-04-26T17:19:34', 'check_out_timestamp': '2021-04-26T17:23:00'}}\n",
      "{'store': {'user_id': 8, 'store_id': 1, 'hour_of_checkin_store': '2021-04-26T23:58:59', 'store_location': 'CG', 'hour_of_checkout_sotre': '2021-04-26T23:58:59'}}\n",
      "{'product': {'user_id': 6, 'product_checkin': '2021-04-27T00:00:00', 'store_id': 1, 'product_id': 53985, 'product_checkout': '2021-04-26T07:09:57', 'add_on_cart': True}}\n",
      "{'home_page': {'user_id': 5, 'gender': 'M', 'age': 30, 'is_web': False, 'check_in_timestamp': '2021-04-26T18:38:58', 'check_out_timestamp': '2021-04-26T20:54:00'}}\n",
      "{'product': {'user_id': 3, 'product_checkin': '2021-04-26T22:59:49', 'store_id': 0, 'product_id': 82910, 'product_checkout': '2021-04-26T23:59:51', 'add_on_cart': False}}\n",
      "{'home_page': {'user_id': 4, 'gender': 'M', 'age': 30, 'is_web': True, 'check_in_timestamp': '2021-04-26T16:01:43', 'check_out_timestamp': '2021-04-26T23:03:49'}}\n",
      "{'cart': {'user_id': 5, 'add_item': False, 'buy_item': False, 'id_of_products': [69398], 'id_of_buyed_products': [94948]}}\n",
      "{'cart': {'user_id': 6, 'add_item': False, 'buy_item': False, 'id_of_products': [80509], 'id_of_buyed_products': [97434]}}\n",
      "{'cart': {'user_id': 3, 'add_item': False, 'buy_item': True, 'id_of_products': [97929], 'id_of_buyed_products': [96963]}}\n",
      "{'home_page': {'user_id': 4, 'gender': 'F', 'age': 78, 'is_web': True, 'check_in_timestamp': '2021-04-26T16:25:41', 'check_out_timestamp': '2021-04-26T17:49:52'}}\n"
     ]
    }
   ],
   "source": [
    "for i in range(15):\n",
    "    time.sleep(random.randrange(3))\n",
    "    id_user = random.randrange(10) \n",
    "    id_store = random.randrange(10)\n",
    "    id_product = random.randrange(99999)\n",
    "    id_product_cart = random.randrange(99999)\n",
    "    id_product_cart_buy = random.randrange(99999)\n",
    "    sex = random.choice(['M', 'F'])\n",
    "    age = random.randrange(12, 100)   \n",
    "    is_computer = bool(random.getrandbits(1))\n",
    "    add_on_cart = bool(random.getrandbits(1))\n",
    "    store_id = random.randrange(21325)    \n",
    "    store_category = random.choice(['Brincos', 'Porcelana', 'Camisetas', 'Marchetaria', 'Croche', 'Pintura', 'Desenho', 'Escultura', 'Comidas', 'Bebidas'])\n",
    "    store_location = random.choice(['SP', 'SJC', 'RJ', 'CG', 'BH'])\n",
    "    check_in =  create_checkin()\n",
    "    check_out = create_checkout(check_in.hour, check_in.minute, check_in.second)\n",
    "    check_in_store =  create_checkout(check_out.hour, check_out.minute, check_out.second)\n",
    "    check_out_store = create_checkout(check_in_store.hour, check_in_store.minute, check_in_store.second)\n",
    "    check_in_product =  create_checkout(check_out_store.hour, check_out_store.minute, check_out_store.second)\n",
    "    check_out_product = create_checkout(check_in_product.hour, check_in_product.minute, check_in_product.second)\n",
    "    item_add = bool(random.getrandbits(1))\n",
    "    buy_item = bool(random.getrandbits(1))\n",
    "    random.choice([send_login_logs, send_product_logs, send_store_logs, send_cart_logs])()"
   ]
  },
  {
   "cell_type": "code",
   "execution_count": 34,
   "id": "391b4aa4",
   "metadata": {},
   "outputs": [
    {
     "ename": "NameError",
     "evalue": "name 'records' is not defined",
     "output_type": "error",
     "traceback": [
      "\u001b[0;31m---------------------------------------------------------------------------\u001b[0m",
      "\u001b[0;31mNameError\u001b[0m                                 Traceback (most recent call last)",
      "\u001b[0;32m<ipython-input-34-f8d3eda2fc1d>\u001b[0m in \u001b[0;36m<module>\u001b[0;34m\u001b[0m\n\u001b[0;32m----> 1\u001b[0;31m \u001b[0mrecords\u001b[0m\u001b[0;34m\u001b[0m\u001b[0;34m\u001b[0m\u001b[0m\n\u001b[0m",
      "\u001b[0;31mNameError\u001b[0m: name 'records' is not defined"
     ]
    }
   ],
   "source": [
    "records"
   ]
  },
  {
   "cell_type": "code",
   "execution_count": null,
   "id": "db302ecd",
   "metadata": {},
   "outputs": [],
   "source": []
  }
 ],
 "metadata": {
  "kernelspec": {
   "display_name": "Python 3",
   "language": "python",
   "name": "python3"
  },
  "language_info": {
   "codemirror_mode": {
    "name": "ipython",
    "version": 3
   },
   "file_extension": ".py",
   "mimetype": "text/x-python",
   "name": "python",
   "nbconvert_exporter": "python",
   "pygments_lexer": "ipython3",
   "version": "3.8.5"
  }
 },
 "nbformat": 4,
 "nbformat_minor": 5
}
